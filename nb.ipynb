{
 "cells": [
  {
   "cell_type": "code",
   "execution_count": 14,
   "metadata": {},
   "outputs": [],
   "source": [
    "from config import *\n",
    "import pandas as pd\n",
    "%matplotlib inline\n",
    "from analyzer import *"
   ]
  },
  {
   "cell_type": "code",
   "execution_count": 3,
   "metadata": {},
   "outputs": [],
   "source": [
    "days = pd.read_csv(CLUSTERED_DAYS_PATH_OUT)"
   ]
  },
  {
   "cell_type": "code",
   "execution_count": 4,
   "metadata": {},
   "outputs": [
    {
     "data": {
      "text/plain": [
       "array([4, 2, 0, 5, 1, 3])"
      ]
     },
     "execution_count": 4,
     "metadata": {},
     "output_type": "execute_result"
    }
   ],
   "source": [
    "days.cluster_id.unique()"
   ]
  },
  {
   "cell_type": "code",
   "execution_count": 9,
   "metadata": {},
   "outputs": [
    {
     "data": {
      "text/plain": [
       "Index(['index', '0', '1', '2', '3', '4', '5', '6', '7', '8', '9', '10', '11',\n",
       "       '12', '13', '14', '15', '16', '17', '18', '19', '20', '21', '22', '23',\n",
       "       'totals', 'weekday', 'Start_Lon_mean', 'Start_Lat_mean', 'End_Lon_mean',\n",
       "       'End_Lat_mean', 'Start_Lon_std', 'Start_Lat_std', 'End_Lon_std',\n",
       "       'End_Lat_std', 'Start_Lon_meanAM', 'Start_Lat_meanAM', 'End_Lon_meanAM',\n",
       "       'End_Lat_meanAM', 'Start_Lon_stdAM', 'Start_Lat_stdAM', 'End_Lon_stdAM',\n",
       "       'End_Lat_stdAM', 'Start_Lon_meanPM', 'Start_Lat_meanPM',\n",
       "       'End_Lon_meanPM', 'End_Lat_meanPM', 'Start_Lon_stdPM',\n",
       "       'Start_Lat_stdPM', 'End_Lon_stdPM', 'End_Lat_stdPM', 'cluster_id',\n",
       "       'holidays'],\n",
       "      dtype='object')"
      ]
     },
     "execution_count": 9,
     "metadata": {},
     "output_type": "execute_result"
    }
   ],
   "source": [
    "days.columns"
   ]
  },
  {
   "cell_type": "code",
   "execution_count": 12,
   "metadata": {},
   "outputs": [
    {
     "data": {
      "text/plain": [
       "cluster_id\n",
       "0    39\n",
       "1     6\n",
       "2     8\n",
       "3     1\n",
       "4     1\n",
       "5    63\n",
       "dtype: int64"
      ]
     },
     "execution_count": 12,
     "metadata": {},
     "output_type": "execute_result"
    }
   ],
   "source": [
    "days.groupby('cluster_id').size()"
   ]
  },
  {
   "cell_type": "code",
   "execution_count": 15,
   "metadata": {},
   "outputs": [],
   "source": [
    "trips = index_by_datetime(pd.read_csv(TRIPS_PATH_IN))"
   ]
  },
  {
   "cell_type": "code",
   "execution_count": 16,
   "metadata": {},
   "outputs": [
    {
     "data": {
      "text/html": [
       "<div>\n",
       "<style scoped>\n",
       "    .dataframe tbody tr th:only-of-type {\n",
       "        vertical-align: middle;\n",
       "    }\n",
       "\n",
       "    .dataframe tbody tr th {\n",
       "        vertical-align: top;\n",
       "    }\n",
       "\n",
       "    .dataframe thead th {\n",
       "        text-align: right;\n",
       "    }\n",
       "</style>\n",
       "<table border=\"1\" class=\"dataframe\">\n",
       "  <thead>\n",
       "    <tr style=\"text-align: right;\">\n",
       "      <th></th>\n",
       "      <th>tripduration</th>\n",
       "      <th>start station id</th>\n",
       "      <th>start station latitude</th>\n",
       "      <th>start station longitude</th>\n",
       "      <th>end station id</th>\n",
       "      <th>end station latitude</th>\n",
       "      <th>end station longitude</th>\n",
       "      <th>bikeid</th>\n",
       "      <th>name_localizedValue0</th>\n",
       "      <th>usertype</th>\n",
       "      <th>birth year</th>\n",
       "      <th>gender</th>\n",
       "    </tr>\n",
       "    <tr>\n",
       "      <th>starttime</th>\n",
       "      <th></th>\n",
       "      <th></th>\n",
       "      <th></th>\n",
       "      <th></th>\n",
       "      <th></th>\n",
       "      <th></th>\n",
       "      <th></th>\n",
       "      <th></th>\n",
       "      <th></th>\n",
       "      <th></th>\n",
       "      <th></th>\n",
       "      <th></th>\n",
       "    </tr>\n",
       "  </thead>\n",
       "  <tbody>\n",
       "    <tr>\n",
       "      <th>2018-01-01 00:01:51</th>\n",
       "      <td>196</td>\n",
       "      <td>315</td>\n",
       "      <td>40.703554</td>\n",
       "      <td>-74.006702</td>\n",
       "      <td>259</td>\n",
       "      <td>40.701221</td>\n",
       "      <td>-74.012342</td>\n",
       "      <td>18534</td>\n",
       "      <td>Annual Membership</td>\n",
       "      <td>Subscriber</td>\n",
       "      <td>1997.0</td>\n",
       "      <td>1</td>\n",
       "    </tr>\n",
       "    <tr>\n",
       "      <th>2018-01-01 00:02:44</th>\n",
       "      <td>207</td>\n",
       "      <td>3224</td>\n",
       "      <td>40.739974</td>\n",
       "      <td>-74.005139</td>\n",
       "      <td>470</td>\n",
       "      <td>40.743453</td>\n",
       "      <td>-74.000040</td>\n",
       "      <td>19651</td>\n",
       "      <td>Annual Membership</td>\n",
       "      <td>Subscriber</td>\n",
       "      <td>1978.0</td>\n",
       "      <td>1</td>\n",
       "    </tr>\n",
       "    <tr>\n",
       "      <th>2018-01-01 00:03:15</th>\n",
       "      <td>613</td>\n",
       "      <td>386</td>\n",
       "      <td>40.714948</td>\n",
       "      <td>-74.002345</td>\n",
       "      <td>2008</td>\n",
       "      <td>40.705693</td>\n",
       "      <td>-74.016777</td>\n",
       "      <td>21678</td>\n",
       "      <td>Annual Membership</td>\n",
       "      <td>Subscriber</td>\n",
       "      <td>1982.0</td>\n",
       "      <td>1</td>\n",
       "    </tr>\n",
       "    <tr>\n",
       "      <th>2018-01-01 00:06:44</th>\n",
       "      <td>375</td>\n",
       "      <td>466</td>\n",
       "      <td>40.743954</td>\n",
       "      <td>-73.991449</td>\n",
       "      <td>325</td>\n",
       "      <td>40.736245</td>\n",
       "      <td>-73.984738</td>\n",
       "      <td>29822</td>\n",
       "      <td>Annual Membership</td>\n",
       "      <td>Subscriber</td>\n",
       "      <td>1982.0</td>\n",
       "      <td>1</td>\n",
       "    </tr>\n",
       "    <tr>\n",
       "      <th>2018-01-01 00:06:57</th>\n",
       "      <td>402</td>\n",
       "      <td>438</td>\n",
       "      <td>40.727791</td>\n",
       "      <td>-73.985649</td>\n",
       "      <td>380</td>\n",
       "      <td>40.734011</td>\n",
       "      <td>-74.002939</td>\n",
       "      <td>30722</td>\n",
       "      <td>Annual Membership</td>\n",
       "      <td>Subscriber</td>\n",
       "      <td>1989.0</td>\n",
       "      <td>1</td>\n",
       "    </tr>\n",
       "  </tbody>\n",
       "</table>\n",
       "</div>"
      ],
      "text/plain": [
       "                     tripduration  start station id  start station latitude  \\\n",
       "starttime                                                                     \n",
       "2018-01-01 00:01:51           196               315               40.703554   \n",
       "2018-01-01 00:02:44           207              3224               40.739974   \n",
       "2018-01-01 00:03:15           613               386               40.714948   \n",
       "2018-01-01 00:06:44           375               466               40.743954   \n",
       "2018-01-01 00:06:57           402               438               40.727791   \n",
       "\n",
       "                     start station longitude  end station id  \\\n",
       "starttime                                                      \n",
       "2018-01-01 00:01:51               -74.006702             259   \n",
       "2018-01-01 00:02:44               -74.005139             470   \n",
       "2018-01-01 00:03:15               -74.002345            2008   \n",
       "2018-01-01 00:06:44               -73.991449             325   \n",
       "2018-01-01 00:06:57               -73.985649             380   \n",
       "\n",
       "                     end station latitude  end station longitude  bikeid  \\\n",
       "starttime                                                                  \n",
       "2018-01-01 00:01:51             40.701221             -74.012342   18534   \n",
       "2018-01-01 00:02:44             40.743453             -74.000040   19651   \n",
       "2018-01-01 00:03:15             40.705693             -74.016777   21678   \n",
       "2018-01-01 00:06:44             40.736245             -73.984738   29822   \n",
       "2018-01-01 00:06:57             40.734011             -74.002939   30722   \n",
       "\n",
       "                    name_localizedValue0    usertype  birth year  gender  \n",
       "starttime                                                                 \n",
       "2018-01-01 00:01:51    Annual Membership  Subscriber      1997.0       1  \n",
       "2018-01-01 00:02:44    Annual Membership  Subscriber      1978.0       1  \n",
       "2018-01-01 00:03:15    Annual Membership  Subscriber      1982.0       1  \n",
       "2018-01-01 00:06:44    Annual Membership  Subscriber      1982.0       1  \n",
       "2018-01-01 00:06:57    Annual Membership  Subscriber      1989.0       1  "
      ]
     },
     "execution_count": 16,
     "metadata": {},
     "output_type": "execute_result"
    }
   ],
   "source": [
    "trips.head()"
   ]
  },
  {
   "cell_type": "code",
   "execution_count": 19,
   "metadata": {},
   "outputs": [
    {
     "data": {
      "text/plain": [
       "0      4\n",
       "1      2\n",
       "2      2\n",
       "3      0\n",
       "4      0\n",
       "5      0\n",
       "6      0\n",
       "7      5\n",
       "8      5\n",
       "9      5\n",
       "10     5\n",
       "11     5\n",
       "12     0\n",
       "13     0\n",
       "14     0\n",
       "15     5\n",
       "16     5\n",
       "17     5\n",
       "18     5\n",
       "19     0\n",
       "20     0\n",
       "21     5\n",
       "22     2\n",
       "23     5\n",
       "24     5\n",
       "25     5\n",
       "26     0\n",
       "27     0\n",
       "28     5\n",
       "29     5\n",
       "      ..\n",
       "88     0\n",
       "89     2\n",
       "90     5\n",
       "91     5\n",
       "92     5\n",
       "93     2\n",
       "94     0\n",
       "95     0\n",
       "96     5\n",
       "97     5\n",
       "98     5\n",
       "99     5\n",
       "100    5\n",
       "101    0\n",
       "102    0\n",
       "103    1\n",
       "104    5\n",
       "105    5\n",
       "106    5\n",
       "107    5\n",
       "108    0\n",
       "109    0\n",
       "110    1\n",
       "111    1\n",
       "112    5\n",
       "113    1\n",
       "114    5\n",
       "115    0\n",
       "116    0\n",
       "117    5\n",
       "Name: cluster_id, Length: 118, dtype: int64"
      ]
     },
     "execution_count": 19,
     "metadata": {},
     "output_type": "execute_result"
    }
   ],
   "source": [
    "days.cluster_id"
   ]
  },
  {
   "cell_type": "code",
   "execution_count": null,
   "metadata": {},
   "outputs": [],
   "source": []
  }
 ],
 "metadata": {
  "kernelspec": {
   "display_name": "Python 3",
   "language": "python",
   "name": "python3"
  },
  "language_info": {
   "codemirror_mode": {
    "name": "ipython",
    "version": 3
   },
   "file_extension": ".py",
   "mimetype": "text/x-python",
   "name": "python",
   "nbconvert_exporter": "python",
   "pygments_lexer": "ipython3",
   "version": "3.6.3"
  }
 },
 "nbformat": 4,
 "nbformat_minor": 1
}
